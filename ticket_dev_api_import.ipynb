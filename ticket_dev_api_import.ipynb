{
 "cells": [
  {
   "cell_type": "code",
   "execution_count": 95,
   "metadata": {},
   "outputs": [],
   "source": [
    "# Api used jupyter notebook\n",
    "# Genre - genre_id, genre_name   (formally subcategories)\n",
    "# Event_Capacity - event_id, quantity_sold, quantity_pending, quantity_total\n",
    "# Event- event id, summary, category_id, event_name, start_date, end_date, URL, status?, online, age_restriction?, \n",
    "# Ticket_Classes - event_id, description, capacity, quantity_sold\n",
    "# Venue - event_id, venue_id, only_public, status, venue_name, age_restriction, city, region, postal_code, (latitude, longitude for the map)"
   ]
  },
  {
   "cell_type": "code",
   "execution_count": 96,
   "metadata": {},
   "outputs": [],
   "source": [
    "#imports\n",
    "import pandas as pd\n",
    "import requests \n",
    "\n",
    "path = ('Project03_Visualization_SHOWWW\\csv_tables')"
   ]
  },
  {
   "cell_type": "code",
   "execution_count": 105,
   "metadata": {},
   "outputs": [],
   "source": [
    "#base url\n",
    "#url =  'https://app.ticketmaster.com/discovery/v2/events.json?countryCode=US&classificationName=Music&startDateTime=2023'\n",
    "genre_url = 'https://app.ticketmaster.com/discovery/v2/classifications/KZFzniwnSyZfZ7v7nJ.json?apikey=yTIm5zlYHTsXuGFluFTMc9u5peB89aGA'"
   ]
  },
  {
   "cell_type": "code",
   "execution_count": null,
   "metadata": {},
   "outputs": [],
   "source": [
    "#getting genre from ticketmaster developer\n",
    "# using separate api pull for simple list of music genres\n",
    "\n",
    "genre_call = requests.get(genre_url)\n",
    "genre_call_json = genre_call.json()\n",
    "# print(genre_json)\n",
    "subgenre_json = genre_call_json['segment']['_embedded']['genres'][4]['_embedded']['subgenres']\n",
    "genre_json = genre_call_json['segment']['_embedded']['genres']\n",
    "# print(subgenre_json)\n",
    "# print(genre_json)\n",
    "\n",
    "genre_list = []\n",
    "subgenre_list = []\n",
    "\n",
    "for genre in genre_json:\n",
    "    genre_id = genre['id']\n",
    "    genre_name = genre['name']\n",
    "    subgenres = genre['_embedded']['subgenres']\n",
    "\n",
    "    for subgenre in subgenres:\n",
    "        subgenre_name = subgenre['name']\n",
    "        subgenre_id = subgenre['id']\n",
    "        genre_list.append({'genre': genre_name, 'id': genre_id, 'subgenre': subgenre_name, 'subgenre_id': subgenre_id})\n",
    "        subgenre_list.append(subgenre_name)\n",
    "\n",
    "subgenre_list\n",
    "genre_list\n"
   ]
  },
  {
   "cell_type": "code",
   "execution_count": 104,
   "metadata": {},
   "outputs": [],
   "source": [
    "genre_df = pd.json_normalize(genre_list)\n",
    "genre_df.to_csv('csv_tables/genre.csv')"
   ]
  },
  {
   "cell_type": "code",
   "execution_count": 109,
   "metadata": {},
   "outputs": [],
   "source": [
    "base_url =  'https://app.ticketmaster.com/discovery/v2/events.json?countryCode=US&classificationName=Music&startDateTime=2023-06-20T00:00:00Z&sort=date,asc&apikey=rmkU0um9gY6pMG0Ti7M0AFnq4KTtVwGd'\n",
    "\n",
    "event_call = requests.get(base_url)\n",
    "event_call_json = event_call.json()\n",
    "\n",
    "event_json = event_call_json['_embedded']['events']\n",
    "\n",
    "event_data = []\n",
    "genre_id = []\n",
    "subgenre_id = []\n",
    "seatMapUrl_list = []\n",
    "venueURL_list = []\n",
    "venue_data = []\n",
    "for event in event_json:\n",
    "    event_name = event['name']\n",
    "    event_id = event['id']\n",
    "    event_url = event['url']\n",
    "    image_url = event['images'][0]['url']\n",
    "    startDate = event['dates']['start']['localDate']\n",
    "    startTime = event['dates']['start']['localTime']\n",
    "    classifications = event['classifications']\n",
    "    venues = event[\"_embedded\"]['venues']\n",
    "    event_data.append({\"Event Name\" : event_name,\n",
    "                       \"Event ID\" : event_id,\n",
    "                       \"Event URL\" : event_url,\n",
    "                       \"Image URL\" : image_url,\n",
    "                       \"Start Date\" : startDate,\n",
    "                       \"Start Time\" : startTime\n",
    "                       })\n",
    "    for venue in venues:\n",
    "        venue_name = venue['name']\n",
    "        venue_id = venue['id']\n",
    "        venue_postal = venue['postalCode']\n",
    "        venue_city = venue['city']\n",
    "        venue_state = venue['state']['stateCode']\n",
    "        venue_add = venue['address']\n",
    "        venue_geo = venue['location']\n",
    "        venue_url = venue.get('url', '')  # Use .get() with a default value if 'url' key is missing\n",
    "        venueURL_list.append(venue_url)\n",
    "        venue_data.append({\"Venue Name\": venue_name, \n",
    "                           \"Venue ID\": venue_id, \n",
    "                           \"Postal Code\" : venue_postal, \n",
    "                           \"City\" : venue_city, \n",
    "                           \"State\" : venue_state,\n",
    "                           \"Address\" : venue_add,\n",
    "                           \"Latitude and Longitude\" : venue_geo\n",
    "                           })\n",
    "    seatMap = event.get('seatmap')\n",
    "    if seatMap:\n",
    "        seatMapUrl_list.append(seatMap['staticUrl'])\n",
    "    \n",
    "    for classification in classifications:\n",
    "        genre = classification['genre']\n",
    "        subgenre = classification.get('subGenre', '')  # Use .get() to safely retrieve the value\n",
    "        if subgenre:\n",
    "            subgenre_id.append(subgenre['id'])\n",
    "        genre_id.append(genre['id'])\n"
   ]
  },
  {
   "cell_type": "code",
   "execution_count": null,
   "metadata": {},
   "outputs": [],
   "source": []
  }
 ],
 "metadata": {
  "kernelspec": {
   "display_name": "PythonData",
   "language": "python",
   "name": "python3"
  },
  "language_info": {
   "codemirror_mode": {
    "name": "ipython",
    "version": 3
   },
   "file_extension": ".py",
   "mimetype": "text/x-python",
   "name": "python",
   "nbconvert_exporter": "python",
   "pygments_lexer": "ipython3",
   "version": "3.7.7"
  },
  "orig_nbformat": 4
 },
 "nbformat": 4,
 "nbformat_minor": 2
}
